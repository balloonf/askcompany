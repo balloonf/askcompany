{
 "cells": [
  {
   "cell_type": "code",
   "execution_count": 1,
   "id": "aa37c0ee",
   "metadata": {},
   "outputs": [],
   "source": [
    "from django.contrib import admin"
   ]
  },
  {
   "cell_type": "code",
   "execution_count": 11,
   "id": "1a2e7ff5",
   "metadata": {},
   "outputs": [],
   "source": [
    "from django.conf import settings"
   ]
  },
  {
   "cell_type": "code",
   "execution_count": 1,
   "id": "922d5838",
   "metadata": {},
   "outputs": [],
   "source": [
    "from django import urls"
   ]
  },
  {
   "cell_type": "code",
   "execution_count": 2,
   "id": "52198752",
   "metadata": {},
   "outputs": [],
   "source": [
    "from django.views import generic "
   ]
  },
  {
   "cell_type": "code",
   "execution_count": 6,
   "id": "6a2e8a57-006a-4e2a-b33a-b9eb1b7c3d06",
   "metadata": {},
   "outputs": [
    {
     "ename": "TypeError",
     "evalue": "get_queryset() missing 1 required positional argument: 'self'",
     "output_type": "error",
     "traceback": [
      "\u001b[1;31m---------------------------------------------------------------------------\u001b[0m",
      "\u001b[1;31mTypeError\u001b[0m                                 Traceback (most recent call last)",
      "Input \u001b[1;32mIn [6]\u001b[0m, in \u001b[0;36m<module>\u001b[1;34m\u001b[0m\n\u001b[1;32m----> 1\u001b[0m \u001b[43mgeneric\u001b[49m\u001b[38;5;241;43m.\u001b[39;49m\u001b[43mListView\u001b[49m\u001b[38;5;241;43m.\u001b[39;49m\u001b[43mget_queryset\u001b[49m\u001b[43m(\u001b[49m\u001b[43m)\u001b[49m\n",
      "\u001b[1;31mTypeError\u001b[0m: get_queryset() missing 1 required positional argument: 'self'"
     ]
    }
   ],
   "source": [
    "generic.ListView.get_queryset()"
   ]
  },
  {
   "cell_type": "code",
   "execution_count": 7,
   "id": "78c58477-9334-46b0-baac-64b16c5d153a",
   "metadata": {},
   "outputs": [],
   "source": [
    "from django import forms"
   ]
  },
  {
   "cell_type": "code",
   "execution_count": 11,
   "id": "da5d63bc-b4a2-4f6b-bace-a02b58120149",
   "metadata": {},
   "outputs": [
    {
     "data": {
      "text/plain": [
       "\u001b[1;31mInit signature:\u001b[0m \u001b[0mforms\u001b[0m\u001b[1;33m.\u001b[0m\u001b[0mWidget\u001b[0m\u001b[1;33m(\u001b[0m\u001b[0mattrs\u001b[0m\u001b[1;33m=\u001b[0m\u001b[1;32mNone\u001b[0m\u001b[1;33m)\u001b[0m\u001b[1;33m\u001b[0m\u001b[1;33m\u001b[0m\u001b[0m\n",
       "\u001b[1;31mDocstring:\u001b[0m      <no docstring>\n",
       "\u001b[1;31mFile:\u001b[0m           d:\\github\\django\\venv\\lib\\site-packages\\django\\forms\\widgets.py\n",
       "\u001b[1;31mType:\u001b[0m           MediaDefiningClass\n",
       "\u001b[1;31mSubclasses:\u001b[0m     Input, Textarea, ChoiceWidget, MultiWidget, SelectDateWidget\n"
      ]
     },
     "metadata": {},
     "output_type": "display_data"
    }
   ],
   "source": [
    "forms.Widget?"
   ]
  }
 ],
 "metadata": {
  "kernelspec": {
   "display_name": "Django Shell-Plus",
   "language": "python",
   "name": "django_extensions"
  },
  "language_info": {
   "codemirror_mode": {
    "name": "ipython",
    "version": 3
   },
   "file_extension": ".py",
   "mimetype": "text/x-python",
   "name": "python",
   "nbconvert_exporter": "python",
   "pygments_lexer": "ipython3",
   "version": "3.9.1"
  }
 },
 "nbformat": 4,
 "nbformat_minor": 5
}
