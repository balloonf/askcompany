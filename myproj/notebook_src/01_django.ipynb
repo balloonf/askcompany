{
 "cells": [
  {
   "cell_type": "code",
   "execution_count": 1,
   "id": "aa37c0ee",
   "metadata": {},
   "outputs": [],
   "source": [
    "from django.contrib import admin"
   ]
  },
  {
   "cell_type": "code",
   "execution_count": 11,
   "id": "1a2e7ff5",
   "metadata": {},
   "outputs": [],
   "source": [
    "from django.conf import settings"
   ]
  },
  {
   "cell_type": "code",
   "execution_count": 18,
   "id": "922d5838",
   "metadata": {},
   "outputs": [],
   "source": [
    "from django import urls"
   ]
  },
  {
   "cell_type": "code",
   "execution_count": 21,
   "id": "52198752",
   "metadata": {},
   "outputs": [
    {
     "data": {
      "text/plain": [
       "<module 'django.urls.conf' from 'D:\\\\GitHub\\\\django\\\\venv\\\\lib\\\\site-packages\\\\django\\\\urls\\\\conf.py'>"
      ]
     },
     "execution_count": 21,
     "metadata": {},
     "output_type": "execute_result"
    }
   ],
   "source": []
  }
 ],
 "metadata": {
  "kernelspec": {
   "display_name": "Django Shell-Plus",
   "language": "python",
   "name": "django_extensions"
  },
  "language_info": {
   "codemirror_mode": {
    "name": "ipython",
    "version": 3
   },
   "file_extension": ".py",
   "mimetype": "text/x-python",
   "name": "python",
   "nbconvert_exporter": "python",
   "pygments_lexer": "ipython3",
   "version": "3.9.1"
  }
 },
 "nbformat": 4,
 "nbformat_minor": 5
}
